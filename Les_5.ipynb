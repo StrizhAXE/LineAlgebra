{
  "nbformat": 4,
  "nbformat_minor": 0,
  "metadata": {
    "colab": {
      "name": "Les_5.ipynb",
      "provenance": [],
      "collapsed_sections": [],
      "authorship_tag": "ABX9TyOaqpvHLSqm3kON2ecgE2Ys",
      "include_colab_link": true
    },
    "kernelspec": {
      "name": "python3",
      "display_name": "Python 3"
    },
    "language_info": {
      "name": "python"
    }
  },
  "cells": [
    {
      "cell_type": "markdown",
      "metadata": {
        "id": "view-in-github",
        "colab_type": "text"
      },
      "source": [
        "<a href=\"https://colab.research.google.com/github/StrizhAXE/LineAlgebra/blob/main/Les_5.ipynb\" target=\"_parent\"><img src=\"https://colab.research.google.com/assets/colab-badge.svg\" alt=\"Open In Colab\"/></a>"
      ]
    },
    {
      "cell_type": "markdown",
      "metadata": {
        "id": "oTMtBb8vjQND"
      },
      "source": [
        "1. Найти с помощью NumPy SVD для матрицы\n",
        "\n",
        "$$\\begin{pmatrix}\n",
        "1 & 2 & 0\\\\ \n",
        "0 & 0 & 5\\\\ \n",
        "3 & -4 & 2\\\\ \n",
        "1 & 6 & 5\\\\ \n",
        "0 & 1 & 0\n",
        "\\end{pmatrix}.$$"
      ]
    },
    {
      "cell_type": "code",
      "metadata": {
        "id": "Az_chT-Fi9Uk"
      },
      "source": [
        "import numpy as np\n",
        "np.set_printoptions(precision=2, suppress=True)"
      ],
      "execution_count": 1,
      "outputs": []
    },
    {
      "cell_type": "code",
      "metadata": {
        "colab": {
          "base_uri": "https://localhost:8080/"
        },
        "id": "41tygG8OjcfP",
        "outputId": "01c81262-09ac-43a2-89d6-d3de8ce35936"
      },
      "source": [
        "A = np.array([[1, 2, 0],\n",
        "              [0, 0, 5],\n",
        "              [3, -4, 2],\n",
        "              [1, 6, 5],\n",
        "              [0, 1, 0]])\n",
        "print(f'Матрица A:\\n{A}')"
      ],
      "execution_count": 2,
      "outputs": [
        {
          "output_type": "stream",
          "name": "stdout",
          "text": [
            "Матрица A:\n",
            "[[ 1  2  0]\n",
            " [ 0  0  5]\n",
            " [ 3 -4  2]\n",
            " [ 1  6  5]\n",
            " [ 0  1  0]]\n"
          ]
        }
      ]
    },
    {
      "cell_type": "code",
      "metadata": {
        "id": "R-cjcv_Hk_S7"
      },
      "source": [
        "U, s, W = np.linalg.svd(A)\n",
        "\n",
        "# Транспонируем матрицу W\n",
        "V = W.T\n",
        "\n",
        "# s - список диагональных элементов, его нужно привести к виду диагональной матрицы для наглядности\n",
        "D = np.zeros_like(A, dtype=float)\n",
        "D[np.diag_indices(min(A.shape))] = s"
      ],
      "execution_count": 3,
      "outputs": []
    },
    {
      "cell_type": "code",
      "metadata": {
        "colab": {
          "base_uri": "https://localhost:8080/"
        },
        "id": "lDOhTBKHlEax",
        "outputId": "529e72c2-cfa7-4f40-ea16-1fbf577aaf0d"
      },
      "source": [
        "print(f'Матрица D:\\n{D}')"
      ],
      "execution_count": 4,
      "outputs": [
        {
          "output_type": "stream",
          "name": "stdout",
          "text": [
            "Матрица D:\n",
            "[[8.82 0.   0.  ]\n",
            " [0.   6.14 0.  ]\n",
            " [0.   0.   2.53]\n",
            " [0.   0.   0.  ]\n",
            " [0.   0.   0.  ]]\n"
          ]
        }
      ]
    },
    {
      "cell_type": "code",
      "metadata": {
        "colab": {
          "base_uri": "https://localhost:8080/"
        },
        "id": "gcRpiPC4lIsu",
        "outputId": "b1058856-755c-4b7f-bd92-dd8dfb9b8052"
      },
      "source": [
        "print(f'Матрица U:\\n{U}')"
      ],
      "execution_count": 5,
      "outputs": [
        {
          "output_type": "stream",
          "name": "stdout",
          "text": [
            "Матрица U:\n",
            "[[ 0.17  0.16 -0.53 -0.8  -0.16]\n",
            " [ 0.39 -0.53  0.61 -0.43  0.03]\n",
            " [-0.14 -0.82 -0.52  0.14  0.07]\n",
            " [ 0.89  0.06 -0.25  0.38 -0.06]\n",
            " [ 0.08  0.11 -0.08 -0.11  0.98]]\n"
          ]
        }
      ]
    },
    {
      "cell_type": "code",
      "metadata": {
        "colab": {
          "base_uri": "https://localhost:8080/"
        },
        "id": "fPDekw59lNCb",
        "outputId": "c8665f8a-7c81-4450-cdc8-06e51f17e13f"
      },
      "source": [
        "print(f'Матрица V:\\n{V}')"
      ],
      "execution_count": 6,
      "outputs": [
        {
          "output_type": "stream",
          "name": "stdout",
          "text": [
            "Матрица V:\n",
            "[[ 0.07 -0.37 -0.93]\n",
            " [ 0.72  0.67 -0.21]\n",
            " [ 0.69 -0.65  0.31]]\n"
          ]
        }
      ]
    },
    {
      "cell_type": "code",
      "metadata": {
        "colab": {
          "base_uri": "https://localhost:8080/"
        },
        "id": "CuqXf_rjlRyJ",
        "outputId": "c18108cc-b0db-42d5-868c-16257c4d53fc"
      },
      "source": [
        "# Проведем проверку\n",
        "print(np.dot(np.dot(U, D), V.T))"
      ],
      "execution_count": 7,
      "outputs": [
        {
          "output_type": "stream",
          "name": "stdout",
          "text": [
            "[[ 1.  2.  0.]\n",
            " [ 0. -0.  5.]\n",
            " [ 3. -4.  2.]\n",
            " [ 1.  6.  5.]\n",
            " [-0.  1. -0.]]\n"
          ]
        }
      ]
    },
    {
      "cell_type": "markdown",
      "metadata": {
        "id": "HUI5PT_7mRNd"
      },
      "source": [
        "    а) евклидова норма;"
      ]
    },
    {
      "cell_type": "code",
      "metadata": {
        "colab": {
          "base_uri": "https://localhost:8080/"
        },
        "id": "u5BXSTxxoZGE",
        "outputId": "691b6813-4052-4e3d-c662-36a99f2135e2"
      },
      "source": [
        "Ae = np.linalg.norm(A, ord=2)\n",
        "print(f\"Эвклидова норма Аe = {np.round(Ae, 2)}\")"
      ],
      "execution_count": 8,
      "outputs": [
        {
          "output_type": "stream",
          "name": "stdout",
          "text": [
            "Эвклидова норма Аe = 8.82\n"
          ]
        }
      ]
    },
    {
      "cell_type": "markdown",
      "metadata": {
        "id": "QwsE1fPMmWrI"
      },
      "source": [
        "    б) норма Фробениуса."
      ]
    },
    {
      "cell_type": "code",
      "metadata": {
        "colab": {
          "base_uri": "https://localhost:8080/"
        },
        "id": "iIzCBKi6mWB1",
        "outputId": "d1d078b9-9726-4e8f-8734-c7d8f26c7fd4"
      },
      "source": [
        "Af = np.linalg.norm(A, ord='fro')\n",
        "print(f\"Норма Фробиуса Аf = {np.round(Af, 2)}\")"
      ],
      "execution_count": 9,
      "outputs": [
        {
          "output_type": "stream",
          "name": "stdout",
          "text": [
            "Норма Фробиуса Аf = 11.05\n"
          ]
        }
      ]
    }
  ]
}