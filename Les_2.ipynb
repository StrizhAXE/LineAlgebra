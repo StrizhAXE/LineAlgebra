{
  "nbformat": 4,
  "nbformat_minor": 0,
  "metadata": {
    "colab": {
      "name": "Les_2.ipynb",
      "provenance": [],
      "collapsed_sections": [],
      "authorship_tag": "ABX9TyNDpo7NeYs157t4e+dn/WqF",
      "include_colab_link": true
    },
    "kernelspec": {
      "name": "python3",
      "display_name": "Python 3"
    },
    "language_info": {
      "name": "python"
    }
  },
  "cells": [
    {
      "cell_type": "markdown",
      "metadata": {
        "id": "view-in-github",
        "colab_type": "text"
      },
      "source": [
        "<a href=\"https://colab.research.google.com/github/StrizhAXE/LineAlgebra/blob/main/Les_2.ipynb\" target=\"_parent\"><img src=\"https://colab.research.google.com/assets/colab-badge.svg\" alt=\"Open In Colab\"/></a>"
      ]
    },
    {
      "cell_type": "markdown",
      "metadata": {
        "id": "uiptwy-ueM9A"
      },
      "source": [
        "__1.__ Установить, какие произведения матриц  AB  и  BA  определены, и найти размерности полученных матриц:\n",
        "\n"
      ]
    },
    {
      "cell_type": "markdown",
      "metadata": {
        "id": "TaJB0tS6mM-u"
      },
      "source": [
        "а)  A  — матрица  4×2 ,  B  — матрица  4×2 ;\n",
        "\n",
        "Колличество строк А не равно количеству столбцов В, произведение не определено."
      ]
    },
    {
      "cell_type": "markdown",
      "metadata": {
        "id": "IW_dbfKDmaVg"
      },
      "source": [
        "б)  A  — матрица  2×5 ,  B  — матрица  5×3 ;\n",
        "\n",
        "Колличество строк А не равно количеству столбцов В, не произведение определено."
      ]
    },
    {
      "cell_type": "markdown",
      "metadata": {
        "id": "5PNbLMZsmv0r"
      },
      "source": [
        "в)  A  — матрица  8×3 ,  B  — матрица  3×8 ;\n",
        "\n",
        "Колличество строк А равно количеству столбцов В, произведение определено. Размерность А * В = 8 х 8"
      ]
    },
    {
      "cell_type": "markdown",
      "metadata": {
        "id": "eCeIAh6Tm6xB"
      },
      "source": [
        "г)  A  — квадратная матрица  4×4 ,  B  — квадратная матрица  4×4 .\n",
        "\n",
        "Колличество строк А равно количеству столбцов В, произведение определено. Размерность А * В = 4 х 4"
      ]
    },
    {
      "cell_type": "markdown",
      "metadata": {
        "id": "JNlAsgdjnOlY"
      },
      "source": [
        "__2.__ Найти сумму и произведение матриц $A=\\begin{pmatrix}\n",
        "1 & -2\\\\ \n",
        "3 & 0\n",
        "\\end{pmatrix}$ и $B=\\begin{pmatrix}\n",
        "4 & -1\\\\ \n",
        "0 & 5\n",
        "\\end{pmatrix}.$"
      ]
    },
    {
      "cell_type": "code",
      "metadata": {
        "colab": {
          "base_uri": "https://localhost:8080/"
        },
        "id": "cKDXnhlreA7A",
        "outputId": "843e5344-2a84-4ac5-d9b2-9c1d88ce0bc1"
      },
      "source": [
        "import numpy as np\n",
        "a = np.array([[1, -2], [3, 0]])\n",
        "b = np.array([[4, -1], [0, 5]])\n",
        "\n",
        "c = a + b\n",
        "d = a.dot(b)\n",
        "print(f\"Сумма a + b = \\n{c}\\n\")\n",
        "print(f\"Произведение a * b = \\n{d}\\n\")\n"
      ],
      "execution_count": 8,
      "outputs": [
        {
          "output_type": "stream",
          "name": "stdout",
          "text": [
            "Сумма a + b = \n",
            "[[ 5 -3]\n",
            " [ 3  5]]\n",
            "\n",
            "Произведение a * b = \n",
            "[[  4 -11]\n",
            " [ 12  -3]]\n",
            "\n"
          ]
        }
      ]
    },
    {
      "cell_type": "markdown",
      "metadata": {
        "id": "NyK5wFJnodau"
      },
      "source": [
        "__3.__ Из закономерностей сложения и умножения матриц на число можно сделать вывод, что матрицы одного размера образуют линейное пространство. Вычислить линейную комбинацию $3A-2B+4C$ для матриц $A=\\begin{pmatrix}\n",
        "1 & 7\\\\ \n",
        "3 & -6\n",
        "\\end{pmatrix}$, $B=\\begin{pmatrix}\n",
        "0 & 5\\\\ \n",
        "2 & -1\n",
        "\\end{pmatrix}$, $C=\\begin{pmatrix}\n",
        "2 & -4\\\\ \n",
        "1 & 1\n",
        "\\end{pmatrix}.$"
      ]
    },
    {
      "cell_type": "code",
      "metadata": {
        "colab": {
          "base_uri": "https://localhost:8080/"
        },
        "id": "WPlmwUSmor-Y",
        "outputId": "1645def6-5565-4661-ef88-7847f694d4ae"
      },
      "source": [
        "a = np.array([[1, 7], [3, 6]])\n",
        "b = np.array([[0, 5], [2, -1]])\n",
        "c = np.array([[2, -4], [1, 1]])\n",
        "\n",
        "d = 3 * a - 2 * b + 4 * c\n",
        "print(f\"3A − 2B + 4C = \\n{d}\\n\")"
      ],
      "execution_count": 10,
      "outputs": [
        {
          "output_type": "stream",
          "name": "stdout",
          "text": [
            "3A − 2B + 4C = \n",
            "[[11 -5]\n",
            " [ 9 24]]\n",
            "\n"
          ]
        }
      ]
    },
    {
      "cell_type": "markdown",
      "metadata": {
        "id": "-AMKKPXXpXA0"
      },
      "source": [
        "__4.__ Дана матрица $A=\\begin{pmatrix}\n",
        "4 & 1\\\\ \n",
        "5 & -2\\\\ \n",
        "2 & 3\n",
        "\\end{pmatrix}$.\n",
        "Вычислить $AA^{T}$ и $A^{T}A$."
      ]
    },
    {
      "cell_type": "code",
      "metadata": {
        "colab": {
          "base_uri": "https://localhost:8080/"
        },
        "id": "OVhVVaJvpX6Q",
        "outputId": "36e93982-9b13-480f-80e0-d5c69a5dc701"
      },
      "source": [
        "a = np.array([[4, 7], [5, -2], [2, 3]])\n",
        "aT = a.T\n",
        "c = a@aT\n",
        "d = aT@a\n",
        "print(f\"a = \\n {a}\")\n",
        "print(f\"aT = \\n {aT}\")\n",
        "print(f\"a * aT = \\n {c}\")\n",
        "print(f\"aT * a= \\n {d}\")"
      ],
      "execution_count": 12,
      "outputs": [
        {
          "output_type": "stream",
          "name": "stdout",
          "text": [
            "a = \n",
            " [[ 4  7]\n",
            " [ 5 -2]\n",
            " [ 2  3]]\n",
            "aT = \n",
            " [[ 4  5  2]\n",
            " [ 7 -2  3]]\n",
            "a * aT = \n",
            " [[65  6 29]\n",
            " [ 6 29  4]\n",
            " [29  4 13]]\n",
            "aT * a= \n",
            " [[45 24]\n",
            " [24 62]]\n"
          ]
        }
      ]
    }
  ]
}